{
 "cells": [
  {
   "cell_type": "markdown",
   "id": "f2d17ab6",
   "metadata": {},
   "source": [
    "# KRW‑USDT 5년 백테스트 📈\n",
    "\n",
    "이 노트북은 **그리드 트레이딩 전략**과 **Buy & Hold**를 비교하기 위한 예시입니다.  \n",
    "- 5 년치 KRW‑USDT 일봉 데이터를 받아서  \n",
    "- 박스폭(스플릿 구간)을 여러 값으로 바꿔가며 그리드 성과를 측정하고  \n",
    "- 수익률·MDD·거래횟수·승률을 표로 정리합니다.\n",
    "\n",
    "> ⚠️ 실제 투자 전 반드시 매커니즘을 이해하고, 수수료·슬리피지를 현실 값으로 조정해 보세요.\n"
   ]
  },
  {
   "cell_type": "markdown",
   "id": "76b6929b",
   "metadata": {},
   "source": [
    "## 1. 라이브러리 설치\n",
    "\n",
    "아래 셀을 실행해 필요한 라이브러리를 설치하세요 (Colab / Jupyter).\n",
    "\n",
    "```bash\n",
    "pip install pyupbit pandas numpy matplotlib tqdm\n",
    "```"
   ]
  },
  {
   "cell_type": "code",
   "execution_count": null,
   "id": "226b1afe",
   "metadata": {},
   "outputs": [],
   "source": [
    "# 2. 공통 import 및 기본 설정\n",
    "import pandas as pd, numpy as np, pyupbit, datetime as dt\n",
    "from tqdm import tqdm\n",
    "\n",
    "FEE_RATE = 0.0005          # 업비트 기준 수수료 0.05 %\n",
    "STEP_WON = 4               # 그리드 간격 (원)\n",
    "MAX_GRID  = 10             # 한쪽 방향 최대 계단 수\n",
    "ORDER_KRW = 5_000          # 각 계단당 주문 금액 (원)\n"
   ]
  },
  {
   "cell_type": "code",
   "execution_count": null,
   "id": "19fc286f",
   "metadata": {},
   "outputs": [],
   "source": [
    "# 3. 5년치 KRW‑USDT 일봉 데이터 다운로드\n",
    "def fetch_5y_ohlcv(market=\"KRW-USDT\"):\n",
    "    end = dt.datetime.utcnow()\n",
    "    start = end - dt.timedelta(days=365*5 + 10)\n",
    "    dfs = []\n",
    "    while start < end:\n",
    "        to = end.strftime(\"%Y-%m-%d\")\n",
    "        df  = pyupbit.get_ohlcv(market, interval=\"day\", count=200, to=to)\n",
    "        if df is None or df.empty:\n",
    "            break\n",
    "        dfs.append(df)\n",
    "        end = df.index[0] - pd.Timedelta(days=1)\n",
    "    raw = pd.concat(dfs).sort_index().loc[str(start.date()):]\n",
    "    raw = raw[~raw.index.duplicated()]\n",
    "    return raw\n",
    "\n",
    "ohlcv = fetch_5y_ohlcv()\n",
    "ohlcv.head()"
   ]
  },
  {
   "cell_type": "code",
   "execution_count": null,
   "id": "7209aa43",
   "metadata": {},
   "outputs": [],
   "source": [
    "# 4. Buy & Hold 성과 계산\n",
    "bh_entry_price = ohlcv['open'].iloc[0]\n",
    "bh_exit_price  = ohlcv['close'].iloc[-1]\n",
    "bh_return      = (bh_exit_price / bh_entry_price - 1) * 100\n",
    "\n",
    "cum_max  = ohlcv['close'].cummax()\n",
    "drawdown = (ohlcv['close'] / cum_max - 1)\n",
    "bh_mdd   = drawdown.min() * 100\n",
    "print(f\"Buy & Hold 5Y Return: {bh_return:.2f}%  |  MDD: {bh_mdd:.2f}%\")"
   ]
  },
  {
   "cell_type": "code",
   "execution_count": null,
   "id": "176da34f",
   "metadata": {},
   "outputs": [],
   "source": [
    "# 5. 그리드 시뮬레이터 클래스\n",
    "class GridSim:\n",
    "    def __init__(self, base_price, box_low, box_high,\n",
    "                 step=STEP_WON, max_grid=MAX_GRID):\n",
    "        self.base = base_price\n",
    "        self.low  = box_low\n",
    "        self.high = box_high\n",
    "        self.step = step\n",
    "        self.max  = max_grid\n",
    "        # 상태\n",
    "        self.krw  = 1_000_000\n",
    "        self.coin = 0\n",
    "        self.trades = []   # (type, price, vol)\n",
    "    # -------------------------------\n",
    "    def trade_one(self, price):\n",
    "        # 매수\n",
    "        while price <= self.base - self.step and self.base - self.step >= self.low               and len([t for t in self.trades if t[0]=='buy']) < self.max:\n",
    "            self.base -= self.step\n",
    "            vol = ORDER_KRW / price\n",
    "            fee = ORDER_KRW * FEE_RATE\n",
    "            if self.krw < ORDER_KRW + fee:\n",
    "                break\n",
    "            self.krw -= ORDER_KRW + fee\n",
    "            self.coin += vol\n",
    "            self.trades.append(('buy', price, vol))\n",
    "        # 매도\n",
    "        while price >= self.base + self.step and self.base + self.step <= self.high               and self.coin > 0:\n",
    "            self.base += self.step\n",
    "            vol = ORDER_KRW / self.base\n",
    "            vol = min(vol, self.coin)\n",
    "            proceeds = vol * price\n",
    "            fee = proceeds * FEE_RATE\n",
    "            self.krw += proceeds - fee\n",
    "            self.coin -= vol\n",
    "            self.trades.append(('sell', price, vol))\n",
    "    # -------------------------------\n",
    "    def run(self, prices: np.ndarray):\n",
    "        for p in prices:\n",
    "            self.trade_one(p)\n",
    "        final_assets = self.krw + self.coin * prices[-1]\n",
    "        ret = (final_assets / 1_000_000 - 1) * 100\n",
    "        mdd = self._calc_mdd(prices)\n",
    "        win = self._win_rate()\n",
    "        return ret, mdd, len(self.trades)//2, win\n",
    "    # -------------------------------\n",
    "    def _calc_mdd(self, closes):\n",
    "        equity = []\n",
    "        krw, coin = self.krw, self.coin\n",
    "        for c in closes:\n",
    "            equity.append(krw + coin * c)\n",
    "        s = pd.Series(equity)\n",
    "        return (s / s.cummax() - 1).min() * 100\n",
    "    def _win_rate(self):\n",
    "        pairs = list(zip(self.trades[::2], self.trades[1::2]))\n",
    "        wins = [sell[1] > buy[1] for buy, sell in pairs].count(True)\n",
    "        return wins / len(pairs)*100 if pairs else 0"
   ]
  },
  {
   "cell_type": "code",
   "execution_count": null,
   "id": "5e71fdf2",
   "metadata": {},
   "outputs": [],
   "source": [
    "# 6. 박스폭 스윕\n",
    "results = []\n",
    "close_prices = ohlcv['close'].values\n",
    "mid_price = close_prices.mean()\n",
    "box_sizes = range(40, 201, 20)  # 40원 ~ 200원, 20원 간격\n",
    "for box in tqdm(box_sizes):\n",
    "    low  = mid_price - box/2\n",
    "    high = mid_price + box/2\n",
    "    gs = GridSim(base_price=mid_price, box_low=low, box_high=high)\n",
    "    ret, mdd, ntrade, win = gs.run(close_prices)\n",
    "    results.append([box, ret, mdd, ntrade, win])\n",
    "\n",
    "df = pd.DataFrame(results, columns=['Box(원)', 'Grid Return %', 'MDD %', 'Trades', 'Win Rate %'])\n",
    "df.style.format({'Grid Return %':'{:.2f}', 'MDD %':'{:.2f}', 'Win Rate %':'{:.1f}'})"
   ]
  },
  {
   "cell_type": "code",
   "execution_count": null,
   "id": "7b85245d",
   "metadata": {},
   "outputs": [],
   "source": [
    "# 7. 요약 비교\n",
    "best = df.loc[df['Grid Return %'].idxmax()]\n",
    "print(f\"▶ Buy & Hold 5년 수익률 : {bh_return:.2f}%  /  MDD {bh_mdd:.2f}%\")\n",
    "print('▶ 그리드 최고 성능 :')\n",
    "display(best)\n"
   ]
  }
 ],
 "metadata": {
  "kernelspec": {
   "display_name": "py38_64",
   "language": "python",
   "name": "python3"
  },
  "language_info": {
   "name": "python",
   "version": "3.8.20"
  }
 },
 "nbformat": 4,
 "nbformat_minor": 5
}
